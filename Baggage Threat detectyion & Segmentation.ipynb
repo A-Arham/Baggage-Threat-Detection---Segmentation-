{
  "nbformat": 4,
  "nbformat_minor": 0,
  "metadata": {
    "colab": {
      "provenance": [],
      "gpuType": "T4"
    },
    "kernelspec": {
      "name": "python3",
      "display_name": "Python 3"
    },
    "language_info": {
      "name": "python"
    },
    "accelerator": "GPU"
  },
  "cells": [
    {
      "cell_type": "markdown",
      "source": [
        "#**Libraries**"
      ],
      "metadata": {
        "id": "tA8f1GNhRn81"
      }
    },
    {
      "cell_type": "code",
      "execution_count": null,
      "metadata": {
        "id": "0flikm4mQIEF"
      },
      "outputs": [],
      "source": [
        "import cv2\n",
        "import numpy as np\n",
        "import matplotlib.pyplot as plt\n",
        "import os\n",
        "from sklearn.svm import SVC\n",
        "from skimage.feature import local_binary_pattern, hog\n",
        "from sklearn.preprocessing import StandardScaler\n",
        "from sklearn.svm import SVC\n",
        "from sklearn.pipeline import Pipeline\n",
        "from sklearn.model_selection import GridSearchCV\n",
        "from sklearn.metrics import classification_report, accuracy_score, confusion_matrix\n",
        "from sklearn.decomposition import PCA\n",
        "\n",
        "\n"
      ]
    },
    {
      "cell_type": "markdown",
      "source": [
        "#**Gun ( Pre processing)**\n",
        "*Creating Features array*\n",
        "\n",
        "Run once for creating training arrays, then for Testing arrays.\n"
      ],
      "metadata": {
        "id": "2PvIOmWURsA8"
      }
    },
    {
      "cell_type": "code",
      "source": [
        "def extract_lbp_features(image, radius=1, n_points=8, method='uniform'):\n",
        "    lbp = local_binary_pattern(image, n_points, radius, method=method)\n",
        "    n_bins = int(lbp.max() + 1)\n",
        "    lbp_hist, _ = np.histogram(lbp, bins=n_bins, range=(0, n_bins), density=True)\n",
        "    return lbp, lbp_hist\n",
        "\n",
        "#For testing data\n",
        "folder_path = r\"/content/drive/MyDrive/students_data/test/gun\"\n",
        "mask_folder_path = r\"/content/drive/MyDrive/students_data/test/annotations/gun\"\n",
        "\n",
        "\n",
        "#For training data\n",
        "#folder_path = r\"/content/drive/MyDrive/students_data/train/gun\"\n",
        "#mask_folder_path = r\"/content/drive/MyDrive/students_data/train/annotations/gun\"\n",
        "images = os.listdir(folder_path)\n",
        "\n",
        "features_list = []\n",
        "\n",
        "for image_name in images:\n",
        "    image_path = os.path.join(folder_path, image_name)\n",
        "    image = cv2.imread(image_path)\n",
        "\n",
        "    image = cv2.resize(image, (512, 512))\n",
        "\n",
        "    mask_path = os.path.join(mask_folder_path, image_name)\n",
        "    mask = cv2.imread(mask_path, cv2.IMREAD_GRAYSCALE)\n",
        "\n",
        "     # Check if mask was loaded successfully\n",
        "    if mask is None:\n",
        "        print(f\"Error loading mask for image: {image_name}. Check if the file exists and is not corrupted.\")\n",
        "        continue  # Skip to the next image if mask loading failed\n",
        "\n",
        "    gray = cv2.cvtColor(image, cv2.COLOR_BGR2GRAY)\n",
        "    mask = cv2.resize(mask, (gray.shape[1], gray.shape[0]))\n",
        "    masked_image = cv2.bitwise_and(gray, gray, mask=mask)\n",
        "\n",
        "\n",
        "    gray = masked_image\n",
        "    radius = 1\n",
        "    n_points = 8 * radius\n",
        "\n",
        "    lbp, lbp_features = extract_lbp_features(gray, radius, n_points, method='uniform')\n",
        "\n",
        "    hog_features = hog(gray, orientations=9, pixels_per_cell=(8, 8), cells_per_block=(2, 2), block_norm='L2-Hys')\n",
        "\n",
        "    features = np.concatenate((lbp_features, hog_features))\n",
        "\n",
        "    features_list.append(features)\n",
        "\n",
        "features_array = np.array(features_list, dtype=object)\n",
        "\n",
        "save_path = r\"/content/drive/MyDrive/students_data/TEST1_features_array_gun.npy\"\n",
        "np.save(save_path, features_array)\n",
        "\n",
        "print(\"Features Array Shape:\", features_array.shape)"
      ],
      "metadata": {
        "colab": {
          "base_uri": "https://localhost:8080/"
        },
        "id": "ErDBGkgFRqlh",
        "outputId": "df9bafd9-dacd-4a0a-b309-ea9ce5c8ff3a"
      },
      "execution_count": null,
      "outputs": [
        {
          "output_type": "stream",
          "name": "stdout",
          "text": [
            "Features Array Shape: (93, 142894)\n"
          ]
        }
      ]
    },
    {
      "cell_type": "markdown",
      "source": [
        "#**Knives (pre processing)**\n",
        "*Creating features Array*\n",
        "\n",
        "Run once for creating training arrays, then for Testing arrays.\n",
        "\n"
      ],
      "metadata": {
        "id": "i8YDde8eR8LJ"
      }
    },
    {
      "cell_type": "code",
      "source": [
        "def extract_lbp_features(image, radius=1, n_points=8, method='uniform'):\n",
        "    lbp = local_binary_pattern(image, n_points, radius, method=method)\n",
        "    n_bins = int(lbp.max() + 1)\n",
        "    lbp_hist, _ = np.histogram(lbp, bins=n_bins, range=(0, n_bins), density=True)\n",
        "    return lbp, lbp_hist\n",
        "#for testing\n",
        "folder_path = r\"/content/drive/MyDrive/students_data/test/knife\"\n",
        "mask_folder_path = r\"/content/drive/MyDrive/students_data/test/annotations/knife\"\n",
        "\n",
        "\n",
        "#for trraining\n",
        "#folder_path = r\"/content/drive/MyDrive/students_data/train/knife\"\n",
        "#mask_folder_path = r\"/content/drive/MyDrive/students_data/train/annotations/knife\"\n",
        "images = os.listdir(folder_path)\n",
        "\n",
        "features_list = []\n",
        "\n",
        "for image_name in images:\n",
        "    image_path = os.path.join(folder_path, image_name)\n",
        "    image = cv2.imread(image_path)\n",
        "\n",
        "    image = cv2.resize(image, (512, 512))\n",
        "\n",
        "    mask_path = os.path.join(mask_folder_path, image_name)\n",
        "    mask = cv2.imread(mask_path, cv2.IMREAD_GRAYSCALE)\n",
        "\n",
        "    gray = cv2.cvtColor(image, cv2.COLOR_BGR2GRAY)\n",
        "    mask = cv2.resize(mask, (gray.shape[1], gray.shape[0]))\n",
        "    masked_image = cv2.bitwise_and(gray, gray, mask=mask)\n",
        "\n",
        "\n",
        "    gray = masked_image\n",
        "    radius = 1\n",
        "    n_points = 8 * radius\n",
        "\n",
        "    lbp, lbp_features = extract_lbp_features(gray, radius, n_points, method='uniform')\n",
        "\n",
        "    hog_features = hog(gray, orientations=9, pixels_per_cell=(8, 8), cells_per_block=(2, 2), block_norm='L2-Hys')\n",
        "\n",
        "    features = np.concatenate((lbp_features, hog_features))\n",
        "\n",
        "    features_list.append(features)\n",
        "\n",
        "features_array = np.array(features_list, dtype=object)\n",
        "\n",
        "save_path = r\"/content/drive/MyDrive/students_data/TEST2_features_array_knife.npy\"\n",
        "np.save(save_path, features_array)\n",
        "\n",
        "print(\"Features Array Shape:\", features_array.shape)"
      ],
      "metadata": {
        "colab": {
          "base_uri": "https://localhost:8080/"
        },
        "id": "MSJ_Qz0pR2sj",
        "outputId": "6d05fe16-3835-423b-a310-ce613b73cd35"
      },
      "execution_count": null,
      "outputs": [
        {
          "output_type": "stream",
          "name": "stdout",
          "text": [
            "Features Array Shape: (30, 142894)\n"
          ]
        }
      ]
    },
    {
      "cell_type": "markdown",
      "source": [
        "#**Safe (Pre processing)**\n",
        "*Creating feature array*\n",
        "\n",
        "Run once for creating training arrays, then for Testing arrays.\n",
        "\n"
      ],
      "metadata": {
        "id": "6mPGpGvRSKs7"
      }
    },
    {
      "cell_type": "code",
      "source": [
        "\n",
        "\n",
        "def extract_lbp_features(image, radius=1, n_points=8, method='uniform'):\n",
        "    lbp = local_binary_pattern(image, n_points, radius, method=method)\n",
        "    n_bins = int(lbp.max() + 1)\n",
        "    lbp_hist, _ = np.histogram(lbp, bins=n_bins, range=(0, n_bins), density=True)\n",
        "    return lbp, lbp_hist\n",
        "\n",
        "#for testing\n",
        "folder_path = r\"/content/drive/MyDrive/students_data/test/safe\"\n",
        "\n",
        "\n",
        "#for training\n",
        "#folder_path = r\"/content/drive/MyDrive/students_data/train/safe\"\n",
        "images = os.listdir(folder_path)\n",
        "\n",
        "features_list = []\n",
        "\n",
        "for image_name in images:\n",
        "    image_path = os.path.join(folder_path, image_name)\n",
        "    image = cv2.imread(image_path)\n",
        "\n",
        "    image = cv2.resize(image, (512, 512))\n",
        "\n",
        "    gray = cv2.cvtColor(image, cv2.COLOR_BGR2GRAY)\n",
        "    radius = 1\n",
        "    n_points = 8 * radius\n",
        "\n",
        "    lbp, lbp_features = extract_lbp_features(gray, radius, n_points, method='uniform')\n",
        "\n",
        "    hog_features = hog(gray, orientations=9, pixels_per_cell=(8, 8), cells_per_block=(2, 2), block_norm='L2-Hys')\n",
        "\n",
        "    features = np.concatenate((lbp_features, hog_features))\n",
        "\n",
        "    features_list.append(features)\n",
        "\n",
        "features_array = np.array(features_list, dtype=object)\n",
        "\n",
        "save_path = r\"/content/drive/MyDrive/students_data/TEST3_features_array_safe.npy\"\n",
        "np.save(save_path, features_array)\n",
        "\n",
        "print(\"Features Array Shape:\", features_array.shape)"
      ],
      "metadata": {
        "colab": {
          "base_uri": "https://localhost:8080/"
        },
        "id": "lg08Lt0lSNYQ",
        "outputId": "2772dd49-7c0b-4c88-b04a-ed24f56a762d"
      },
      "execution_count": null,
      "outputs": [
        {
          "output_type": "stream",
          "name": "stdout",
          "text": [
            "Features Array Shape: (55, 142894)\n"
          ]
        }
      ]
    },
    {
      "cell_type": "markdown",
      "source": [
        "#**Loading Training & Testing data for Model**"
      ],
      "metadata": {
        "id": "B3_V6zlzZDqm"
      }
    },
    {
      "cell_type": "code",
      "source": [
        "# Load training data\n",
        "X_train_gun = np.load('/content/drive/MyDrive/students_data/features_array_gun.npy', allow_pickle=True)\n",
        "X_train_knife = np.load('/content/drive/MyDrive/students_data/features_array_knife.npy', allow_pickle=True)\n",
        "X_train_safe = np.load('/content/drive/MyDrive/students_data/features_array_safe.npy', allow_pickle=True)\n",
        "\n",
        "# Load testing data\n",
        "X_test_gun = np.load('/content/drive/MyDrive/students_data/TEST1_features_array_gun.npy', allow_pickle=True)\n",
        "X_test_knife = np.load('/content/drive/MyDrive/students_data/TEST2_features_array_knife.npy', allow_pickle=True)\n",
        "X_test_safe = np.load('/content/drive/MyDrive/students_data/TEST3_features_array_safe.npy', allow_pickle=True)\n"
      ],
      "metadata": {
        "id": "hT90o_mCZGMO"
      },
      "execution_count": null,
      "outputs": []
    },
    {
      "cell_type": "markdown",
      "source": [
        "#**Creating Labels**"
      ],
      "metadata": {
        "id": "FMjoQOHtZHyk"
      }
    },
    {
      "cell_type": "markdown",
      "source": [
        "#**Combine features and labels**"
      ],
      "metadata": {
        "id": "4ciPUaGRZRBs"
      }
    },
    {
      "cell_type": "code",
      "source": [
        "# Create labels\n",
        "y_train_gun = np.full(X_train_gun.shape[0], 0)  # Label '0' for gun\n",
        "y_train_knife = np.full(X_train_knife.shape[0], 1)  # Label '1' for knife\n",
        "y_train_safe = np.full(X_train_safe.shape[0], 2)  # Label '2' for safe\n",
        "\n",
        "y_test_gun = np.full(X_test_gun.shape[0], 0)  # Label '0' for gun\n",
        "y_test_knife = np.full(X_test_knife.shape[0], 1)  # Label '1' for knife\n",
        "y_test_safe = np.full(X_test_safe.shape[0], 2)  # Label '2' for safe\n",
        "\n",
        "# Combine training data and labels\n",
        "X_train = np.concatenate((X_train_gun, X_train_knife, X_train_safe))\n",
        "y_train = np.concatenate((y_train_gun, y_train_knife, y_train_safe))\n",
        "\n",
        "# Combine testing data and labels\n",
        "X_test = np.concatenate((X_test_gun, X_test_knife, X_test_safe))\n",
        "y_test = np.concatenate((y_test_gun, y_test_knife, y_test_safe))\n"
      ],
      "metadata": {
        "id": "y5Yb_TRcZUwy"
      },
      "execution_count": null,
      "outputs": []
    },
    {
      "cell_type": "markdown",
      "source": [
        "#Train SVM Model"
      ],
      "metadata": {
        "id": "rvyx_p7Gf2i4"
      }
    },
    {
      "cell_type": "code",
      "source": [
        "from sklearn.decomposition import PCA\n",
        "\n",
        "# Define the pipeline with PCA for dimensionality reduction\n",
        "pipeline = Pipeline([\n",
        "    ('scaler', StandardScaler()),  # Standardize the features\n",
        "    ('pca', PCA(n_components=50)),  # Reduce to 50 principal components\n",
        "    ('svc', SVC(probability=True))  # SVM classifier with probability estimates\n",
        "])\n",
        "\n",
        "# Define a smaller parameter grid for GridSearch\n",
        "param_grid = {\n",
        "    'svc__C': [0.1, 1, 10],\n",
        "    'svc__kernel': ['linear', 'rbf'],\n",
        "    'svc__gamma': ['scale']\n",
        "}\n",
        "\n",
        "# Perform GridSearchCV to find the best parameters\n",
        "grid_search = GridSearchCV(pipeline, param_grid, cv=3, scoring='accuracy', n_jobs=1, verbose=1)\n",
        "grid_search.fit(X_train, y_train)\n",
        "\n",
        "# Get the best model from GridSearchCV\n",
        "best_model = grid_search.best_estimator_\n",
        "\n",
        "# Print best parameters\n",
        "print(\"Best parameters found: \", grid_search.best_params_)\n"
      ],
      "metadata": {
        "colab": {
          "base_uri": "https://localhost:8080/"
        },
        "id": "R6PHl2rEf4Od",
        "outputId": "60179e62-1da3-4cef-c53d-78d07a2e8c0d"
      },
      "execution_count": null,
      "outputs": [
        {
          "metadata": {
            "tags": null
          },
          "name": "stdout",
          "output_type": "stream",
          "text": [
            "Fitting 3 folds for each of 6 candidates, totalling 18 fits\n",
            "Best parameters found:  {'svc__C': 1, 'svc__gamma': 'scale', 'svc__kernel': 'rbf'}\n"
          ]
        }
      ]
    },
    {
      "cell_type": "markdown",
      "source": [
        "#**Save The model**"
      ],
      "metadata": {
        "id": "WxYO4UqcunEl"
      }
    },
    {
      "cell_type": "code",
      "source": [
        "import joblib\n",
        "\n",
        "# Define the path where you want to save the model\n",
        "save_model_path = '/content/drive/MyDrive/students_data/svm_model.pkl'\n",
        "\n",
        "# Save the model to disk\n",
        "joblib.dump(best_model, save_model_path)\n",
        "\n",
        "print(f\"Trained model saved to {save_model_path}\")\n"
      ],
      "metadata": {
        "id": "CevJsvDEuk25",
        "outputId": "44dc4d99-ad6a-4f53-84cc-9f22a0886e41",
        "colab": {
          "base_uri": "https://localhost:8080/"
        }
      },
      "execution_count": null,
      "outputs": [
        {
          "output_type": "stream",
          "name": "stdout",
          "text": [
            "Trained model saved to /content/drive/MyDrive/students_data/svm_model.pkl\n"
          ]
        }
      ]
    },
    {
      "cell_type": "markdown",
      "source": [
        "#Evaluate SVM Model"
      ],
      "metadata": {
        "id": "HJkHZJK_f5io"
      }
    },
    {
      "cell_type": "code",
      "source": [
        "import seaborn as sns\n",
        "import itertools\n",
        "\n",
        "# Predict on the test set\n",
        "y_pred = best_model.predict(X_test)\n",
        "\n",
        "# Calculate overall accuracy\n",
        "accuracy = accuracy_score(y_test, y_pred)\n",
        "\n",
        "# Generate classification report\n",
        "classification_rep = classification_report(y_test, y_pred, target_names=['Gun', 'Knife', 'Safe'])\n",
        "\n",
        "# Generate confusion matrix\n",
        "conf_matrix = confusion_matrix(y_test, y_pred)\n",
        "\n",
        "# Calculate F1 score for each class\n",
        "f1_scores = f1_score(y_test, y_pred, average=None)\n",
        "\n",
        "# Plot confusion matrix\n",
        "def plot_confusion_matrix(cm, classes, title='Confusion Matrix', cmap=plt.cm.Blues):\n",
        "    plt.figure(figsize=(8, 6))\n",
        "    plt.imshow(cm, interpolation='nearest', cmap=cmap)\n",
        "    plt.title(title)\n",
        "    plt.colorbar()\n",
        "    tick_marks = np.arange(len(classes))\n",
        "    plt.xticks(tick_marks, classes, rotation=45)\n",
        "    plt.yticks(tick_marks, classes)\n",
        "\n",
        "    fmt = 'd'\n",
        "    thresh = cm.max() / 2.\n",
        "    for i, j in itertools.product(range(cm.shape[0]), range(cm.shape[1])):\n",
        "        plt.text(j, i, format(cm[i, j], fmt),\n",
        "                 horizontalalignment=\"center\",\n",
        "                 color=\"white\" if cm[i, j] > thresh else \"black\")\n",
        "\n",
        "    plt.tight_layout()\n",
        "    plt.ylabel('True label')\n",
        "    plt.xlabel('Predicted label')\n",
        "\n",
        "# Plot confusion matrix\n",
        "plot_confusion_matrix(conf_matrix, classes=['Gun', 'Knife', 'Safe'])\n",
        "\n",
        "# Print evaluation metrics\n",
        "print(f\"Overall Accuracy: {accuracy}\")\n",
        "print(f\"Classification Report:\\n{classification_rep}\")\n",
        "print(f\"F1 Scores for each class: {f1_scores}\")"
      ],
      "metadata": {
        "colab": {
          "base_uri": "https://localhost:8080/",
          "height": 852
        },
        "id": "LKONlcwtf7wE",
        "outputId": "82e4dfa9-cf14-4dd1-bc14-89950ced1af6"
      },
      "execution_count": null,
      "outputs": [
        {
          "output_type": "stream",
          "name": "stdout",
          "text": [
            "Overall Accuracy: 0.9044943820224719\n",
            "Classification Report:\n",
            "              precision    recall  f1-score   support\n",
            "\n",
            "         Gun       0.85      1.00      0.92        93\n",
            "       Knife       1.00      0.47      0.64        30\n",
            "        Safe       1.00      0.98      0.99        55\n",
            "\n",
            "    accuracy                           0.90       178\n",
            "   macro avg       0.95      0.82      0.85       178\n",
            "weighted avg       0.92      0.90      0.89       178\n",
            "\n",
            "F1 Scores for each class: [0.91625616 0.63636364 0.99082569]\n"
          ]
        },
        {
          "output_type": "display_data",
          "data": {
            "text/plain": [
              "<Figure size 800x600 with 2 Axes>"
            ],
            "image/png": "[encoded data removed]"
          },
          "metadata": {}
        }
      ]
    },
    {
      "cell_type": "markdown",
      "source": [
        "#Libraies"
      ],
      "metadata": {
        "id": "zC_ydc7OHLzm"
      }
    },
    {
      "cell_type": "code",
      "source": [
        "import tensorflow as tf\n",
        "from tensorflow.keras.layers import Conv2D, MaxPooling2D, UpSampling2D, concatenate, Input, Dropout\n",
        "from tensorflow.keras.models import Model\n",
        "from tensorflow.keras.optimizers import Adam\n",
        "import numpy as np\n",
        "import matplotlib.pyplot as plt\n",
        "from skimage.io import imread, imshow\n",
        "from skimage.transform import resize\n",
        "import os\n",
        "from skimage.io import imread\n",
        "from skimage.transform import resize\n",
        "from tensorflow.keras.utils import to_categorical"
      ],
      "metadata": {
        "id": "1WLL4GbYHQfA"
      },
      "execution_count": 7,
      "outputs": []
    },
    {
      "cell_type": "markdown",
      "source": [
        "#Loading dataset"
      ],
      "metadata": {
        "id": "sXteijwVHidy"
      }
    },
    {
      "cell_type": "code",
      "source": [
        "from google.colab import drive\n",
        "drive.mount('/content/drive')"
      ],
      "metadata": {
        "colab": {
          "base_uri": "https://localhost:8080/"
        },
        "id": "M0Uj2cgSIJZD",
        "outputId": "39789a03-27e4-4de4-d6ce-04aecd866761"
      },
      "execution_count": 4,
      "outputs": [
        {
          "output_type": "stream",
          "name": "stdout",
          "text": [
            "Mounted at /content/drive\n"
          ]
        }
      ]
    },
    {
      "cell_type": "code",
      "source": [
        "import os\n",
        "import numpy as np\n",
        "from skimage.io import imread\n",
        "from skimage.transform import resize\n",
        "\n",
        "def load_image(img_path, img_size):\n",
        "    img = imread(img_path)\n",
        "    img = resize(img, img_size, mode='constant', preserve_range=True)\n",
        "    return img\n",
        "\n",
        "def load_mask(mask_path, mask_size):\n",
        "    mask = imread(mask_path, as_gray=True)\n",
        "    mask = resize(mask, mask_size, mode='constant', preserve_range=True)\n",
        "    mask = np.expand_dims(mask, axis=-1)  # Add channel dimension\n",
        "    return mask\n",
        "\n",
        "def load_dataset(image_folder_gun, image_folder_knife, image_folder_safe=None, mask_folder_gun=None, mask_folder_knife=None, img_size=(128, 128, 3), mask_size=(128, 128, 1)):\n",
        "    X_gun, y_gun = load_data_category(image_folder_gun, mask_folder_gun, img_size, mask_size)\n",
        "    X_knife, y_knife = load_data_category(image_folder_knife, mask_folder_knife, img_size, mask_size)\n",
        "\n",
        "    X_safe = None\n",
        "    y_safe = None\n",
        "    if image_folder_safe:\n",
        "        X_safe, y_safe = load_data_category(image_folder_safe, None, img_size, mask_size)\n",
        "\n",
        "    # Combine the data from all categories\n",
        "    X = np.concatenate((X_gun, X_knife), axis=0)\n",
        "    y = np.concatenate((y_gun, y_knife), axis=0)\n",
        "    if X_safe is not None:\n",
        "        X = np.concatenate((X, X_safe), axis=0)\n",
        "        y = np.concatenate((y, y_safe), axis=0)\n",
        "\n",
        "    print(f\"Loaded images shape: {X.shape}\")\n",
        "    print(f\"Loaded masks shape: {y.shape}\")\n",
        "\n",
        "    return X, y\n",
        "\n",
        "def load_data_category(image_folder, mask_folder, img_size, mask_size):\n",
        "    image_paths = sorted([os.path.join(image_folder, f) for f in os.listdir(image_folder) if f.endswith('.jpg') or f.endswith('.png')])\n",
        "\n",
        "    X = []\n",
        "    y = []\n",
        "\n",
        "    for img_path in image_paths:\n",
        "        img = load_image(img_path, img_size)\n",
        "        X.append(img)\n",
        "\n",
        "        if mask_folder:\n",
        "            # Find corresponding mask path (if exists)\n",
        "            mask_name = os.path.splitext(os.path.basename(img_path))[0] + '.png'\n",
        "            mask_path = os.path.join(mask_folder, mask_name)\n",
        "            if os.path.exists(mask_path):\n",
        "                mask = load_mask(mask_path, mask_size)\n",
        "            else:\n",
        "                mask = np.zeros(mask_size)\n",
        "                mask = np.expand_dims(mask, axis=-1)\n",
        "        else:\n",
        "            # No masks provided, use a dummy mask\n",
        "            mask = np.zeros(mask_size)\n",
        "            mask = np.expand_dims(mask, axis=-1)\n",
        "\n",
        "        y.append(mask)\n",
        "\n",
        "    # Convert lists to numpy arrays\n",
        "    X = np.array(X)\n",
        "    y = np.array(y)\n",
        "\n",
        "    # Normalize the images and masks\n",
        "    X = X / 255.0\n",
        "    y = y / 255.0\n",
        "\n",
        "    return X, y\n",
        "\n",
        "# Example paths\n",
        "train_image_folder_gun = '/content/drive/MyDrive/students_data/train/gun'\n",
        "train_mask_folder_gun = '/content/drive/MyDrive/students_data/train/annotations/gun'\n",
        "train_image_folder_knife = '/content/drive/MyDrive/students_data/train/knife'\n",
        "train_mask_folder_knife = '/content/drive/MyDrive/students_data/train/annotations/knife'\n",
        "train_image_folder_safe = '/content/drive/MyDrive/students_data/train/safe'\n",
        "\n",
        "X, y = load_dataset(train_image_folder_gun, train_image_folder_knife, train_image_folder_safe, train_mask_folder_gun, train_mask_folder_knife)\n",
        "\n",
        "print(f\"Final loaded images shape: {X.shape}\")\n",
        "print(f\"Final loaded masks shape: {y.shape}\")\n"
      ],
      "metadata": {
        "colab": {
          "base_uri": "https://localhost:8080/"
        },
        "id": "Tu_iYH0HHaG7",
        "outputId": "262f51e2-a190-4cdb-a906-18c2a388f0d5"
      },
      "execution_count": 16,
      "outputs": [
        {
          "output_type": "stream",
          "name": "stdout",
          "text": [
            "Loaded images shape: (1542, 128, 128, 3)\n",
            "Loaded masks shape: (1542, 128, 128, 1, 1)\n",
            "Final loaded images shape: (1542, 128, 128, 3)\n",
            "Final loaded masks shape: (1542, 128, 128, 1, 1)\n"
          ]
        }
      ]
    },
    {
      "cell_type": "markdown",
      "source": [
        "#Build Model"
      ],
      "metadata": {
        "id": "V-9p3tcQL_oI"
      }
    },
    {
      "cell_type": "code",
      "source": [
        "import tensorflow as tf\n",
        "from tensorflow.keras.layers import Conv2D, Conv2DTranspose, BatchNormalization, Activation, Input, concatenate, MaxPooling2D, UpSampling2D\n",
        "from tensorflow.keras.models import Model\n",
        "\n",
        "def unet_model(input_size=(128, 128, 3)):\n",
        "    inputs = Input(input_size)\n",
        "\n",
        "    # Encoder\n",
        "    c1 = Conv2D(64, (3, 3), activation='relu', padding='same')(inputs)\n",
        "    c1 = BatchNormalization()(c1)\n",
        "    c1 = Conv2D(64, (3, 3), activation='relu', padding='same')(c1)\n",
        "    c1 = BatchNormalization()(c1)\n",
        "    p1 = MaxPooling2D((2, 2))(c1)\n",
        "\n",
        "    c2 = Conv2D(128, (3, 3), activation='relu', padding='same')(p1)\n",
        "    c2 = BatchNormalization()(c2)\n",
        "    c2 = Conv2D(128, (3, 3), activation='relu', padding='same')(c2)\n",
        "    c2 = BatchNormalization()(c2)\n",
        "    p2 = MaxPooling2D((2, 2))(c2)\n",
        "\n",
        "    c3 = Conv2D(256, (3, 3), activation='relu', padding='same')(p2)\n",
        "    c3 = BatchNormalization()(c3)\n",
        "    c3 = Conv2D(256, (3, 3), activation='relu', padding='same')(c3)\n",
        "    c3 = BatchNormalization()(c3)\n",
        "    p3 = MaxPooling2D((2, 2))(c3)\n",
        "\n",
        "    c4 = Conv2D(512, (3, 3), activation='relu', padding='same')(p3)\n",
        "    c4 = BatchNormalization()(c4)\n",
        "    c4 = Conv2D(512, (3, 3), activation='relu', padding='same')(c4)\n",
        "    c4 = BatchNormalization()(c4)\n",
        "    p4 = MaxPooling2D((2, 2))(c4)\n",
        "\n",
        "    c5 = Conv2D(1024, (3, 3), activation='relu', padding='same')(p4)\n",
        "    c5 = BatchNormalization()(c5)\n",
        "    c5 = Conv2D(1024, (3, 3), activation='relu', padding='same')(c5)\n",
        "    c5 = BatchNormalization()(c5)\n",
        "\n",
        "    # Decoder\n",
        "    u6 = Conv2DTranspose(512, (2, 2), strides=(2, 2), padding='same')(c5)\n",
        "    u6 = concatenate([u6, c4])\n",
        "    c6 = Conv2D(512, (3, 3), activation='relu', padding='same')(u6)\n",
        "    c6 = BatchNormalization()(c6)\n",
        "    c6 = Conv2D(512, (3, 3), activation='relu', padding='same')(c6)\n",
        "    c6 = BatchNormalization()(c6)\n",
        "\n",
        "    u7 = Conv2DTranspose(256, (2, 2), strides=(2, 2), padding='same')(c6)\n",
        "    u7 = concatenate([u7, c3])\n",
        "    c7 = Conv2D(256, (3, 3), activation='relu', padding='same')(u7)\n",
        "    c7 = BatchNormalization()(c7)\n",
        "    c7 = Conv2D(256, (3, 3), activation='relu', padding='same')(c7)\n",
        "    c7 = BatchNormalization()(c7)\n",
        "\n",
        "    u8 = Conv2DTranspose(128, (2, 2), strides=(2, 2), padding='same')(c7)\n",
        "    u8 = concatenate([u8, c2])\n",
        "    c8 = Conv2D(128, (3, 3), activation='relu', padding='same')(u8)\n",
        "    c8 = BatchNormalization()(c8)\n",
        "    c8 = Conv2D(128, (3, 3), activation='relu', padding='same')(c8)\n",
        "    c8 = BatchNormalization()(c8)\n",
        "\n",
        "    u9 = Conv2DTranspose(64, (2, 2), strides=(2, 2), padding='same')(c8)\n",
        "    u9 = concatenate([u9, c1])\n",
        "    c9 = Conv2D(64, (3, 3), activation='relu', padding='same')(u9)\n",
        "    c9 = BatchNormalization()(c9)\n",
        "    c9 = Conv2D(64, (3, 3), activation='relu', padding='same')(c9)\n",
        "    c9 = BatchNormalization()(c9)\n",
        "\n",
        "    outputs = Conv2D(1, (1, 1), activation='sigmoid')(c9)\n",
        "\n",
        "    model = Model(inputs, outputs)\n",
        "    model.compile(optimizer='adam', loss='binary_crossentropy', metrics=['accuracy'])\n",
        "\n",
        "    return model\n",
        "\n",
        "model = unet_model(input_size=(128, 128, 3))\n",
        "\n",
        "print(model.summary())\n"
      ],
      "metadata": {
        "colab": {
          "base_uri": "https://localhost:8080/"
        },
        "id": "ShC8-7PeMCfg",
        "outputId": "d180d3f5-f666-4a5f-f9b7-566dd7c66495"
      },
      "execution_count": 17,
      "outputs": [
        {
          "output_type": "stream",
          "name": "stdout",
          "text": [
            "Model: \"model_1\"\n",
            "__________________________________________________________________________________________________\n",
            " Layer (type)                Output Shape                 Param #   Connected to                  \n",
            "==================================================================================================\n",
            " input_2 (InputLayer)        [(None, 128, 128, 3)]        0         []                            \n",
            "                                                                                                  \n",
            " conv2d_19 (Conv2D)          (None, 128, 128, 64)         1792      ['input_2[0][0]']             \n",
            "                                                                                                  \n",
            " batch_normalization_18 (Ba  (None, 128, 128, 64)         256       ['conv2d_19[0][0]']           \n",
            " tchNormalization)                                                                                \n",
            "                                                                                                  \n",
            " conv2d_20 (Conv2D)          (None, 128, 128, 64)         36928     ['batch_normalization_18[0][0]\n",
            "                                                                    ']                            \n",
            "                                                                                                  \n",
            " batch_normalization_19 (Ba  (None, 128, 128, 64)         256       ['conv2d_20[0][0]']           \n",
            " tchNormalization)                                                                                \n",
            "                                                                                                  \n",
            " max_pooling2d_4 (MaxPoolin  (None, 64, 64, 64)           0         ['batch_normalization_19[0][0]\n",
            " g2D)                                                               ']                            \n",
            "                                                                                                  \n",
            " conv2d_21 (Conv2D)          (None, 64, 64, 128)          73856     ['max_pooling2d_4[0][0]']     \n",
            "                                                                                                  \n",
            " batch_normalization_20 (Ba  (None, 64, 64, 128)          512       ['conv2d_21[0][0]']           \n",
            " tchNormalization)                                                                                \n",
            "                                                                                                  \n",
            " conv2d_22 (Conv2D)          (None, 64, 64, 128)          147584    ['batch_normalization_20[0][0]\n",
            "                                                                    ']                            \n",
            "                                                                                                  \n",
            " batch_normalization_21 (Ba  (None, 64, 64, 128)          512       ['conv2d_22[0][0]']           \n",
            " tchNormalization)                                                                                \n",
            "                                                                                                  \n",
            " max_pooling2d_5 (MaxPoolin  (None, 32, 32, 128)          0         ['batch_normalization_21[0][0]\n",
            " g2D)                                                               ']                            \n",
            "                                                                                                  \n",
            " conv2d_23 (Conv2D)          (None, 32, 32, 256)          295168    ['max_pooling2d_5[0][0]']     \n",
            "                                                                                                  \n",
            " batch_normalization_22 (Ba  (None, 32, 32, 256)          1024      ['conv2d_23[0][0]']           \n",
            " tchNormalization)                                                                                \n",
            "                                                                                                  \n",
            " conv2d_24 (Conv2D)          (None, 32, 32, 256)          590080    ['batch_normalization_22[0][0]\n",
            "                                                                    ']                            \n",
            "                                                                                                  \n",
            " batch_normalization_23 (Ba  (None, 32, 32, 256)          1024      ['conv2d_24[0][0]']           \n",
            " tchNormalization)                                                                                \n",
            "                                                                                                  \n",
            " max_pooling2d_6 (MaxPoolin  (None, 16, 16, 256)          0         ['batch_normalization_23[0][0]\n",
            " g2D)                                                               ']                            \n",
            "                                                                                                  \n",
            " conv2d_25 (Conv2D)          (None, 16, 16, 512)          1180160   ['max_pooling2d_6[0][0]']     \n",
            "                                                                                                  \n",
            " batch_normalization_24 (Ba  (None, 16, 16, 512)          2048      ['conv2d_25[0][0]']           \n",
            " tchNormalization)                                                                                \n",
            "                                                                                                  \n",
            " conv2d_26 (Conv2D)          (None, 16, 16, 512)          2359808   ['batch_normalization_24[0][0]\n",
            "                                                                    ']                            \n",
            "                                                                                                  \n",
            " batch_normalization_25 (Ba  (None, 16, 16, 512)          2048      ['conv2d_26[0][0]']           \n",
            " tchNormalization)                                                                                \n",
            "                                                                                                  \n",
            " max_pooling2d_7 (MaxPoolin  (None, 8, 8, 512)            0         ['batch_normalization_25[0][0]\n",
            " g2D)                                                               ']                            \n",
            "                                                                                                  \n",
            " conv2d_27 (Conv2D)          (None, 8, 8, 1024)           4719616   ['max_pooling2d_7[0][0]']     \n",
            "                                                                                                  \n",
            " batch_normalization_26 (Ba  (None, 8, 8, 1024)           4096      ['conv2d_27[0][0]']           \n",
            " tchNormalization)                                                                                \n",
            "                                                                                                  \n",
            " conv2d_28 (Conv2D)          (None, 8, 8, 1024)           9438208   ['batch_normalization_26[0][0]\n",
            "                                                                    ']                            \n",
            "                                                                                                  \n",
            " batch_normalization_27 (Ba  (None, 8, 8, 1024)           4096      ['conv2d_28[0][0]']           \n",
            " tchNormalization)                                                                                \n",
            "                                                                                                  \n",
            " conv2d_transpose_4 (Conv2D  (None, 16, 16, 512)          2097664   ['batch_normalization_27[0][0]\n",
            " Transpose)                                                         ']                            \n",
            "                                                                                                  \n",
            " concatenate_4 (Concatenate  (None, 16, 16, 1024)         0         ['conv2d_transpose_4[0][0]',  \n",
            " )                                                                   'batch_normalization_25[0][0]\n",
            "                                                                    ']                            \n",
            "                                                                                                  \n",
            " conv2d_29 (Conv2D)          (None, 16, 16, 512)          4719104   ['concatenate_4[0][0]']       \n",
            "                                                                                                  \n",
            " batch_normalization_28 (Ba  (None, 16, 16, 512)          2048      ['conv2d_29[0][0]']           \n",
            " tchNormalization)                                                                                \n",
            "                                                                                                  \n",
            " conv2d_30 (Conv2D)          (None, 16, 16, 512)          2359808   ['batch_normalization_28[0][0]\n",
            "                                                                    ']                            \n",
            "                                                                                                  \n",
            " batch_normalization_29 (Ba  (None, 16, 16, 512)          2048      ['conv2d_30[0][0]']           \n",
            " tchNormalization)                                                                                \n",
            "                                                                                                  \n",
            " conv2d_transpose_5 (Conv2D  (None, 32, 32, 256)          524544    ['batch_normalization_29[0][0]\n",
            " Transpose)                                                         ']                            \n",
            "                                                                                                  \n",
            " concatenate_5 (Concatenate  (None, 32, 32, 512)          0         ['conv2d_transpose_5[0][0]',  \n",
            " )                                                                   'batch_normalization_23[0][0]\n",
            "                                                                    ']                            \n",
            "                                                                                                  \n",
            " conv2d_31 (Conv2D)          (None, 32, 32, 256)          1179904   ['concatenate_5[0][0]']       \n",
            "                                                                                                  \n",
            " batch_normalization_30 (Ba  (None, 32, 32, 256)          1024      ['conv2d_31[0][0]']           \n",
            " tchNormalization)                                                                                \n",
            "                                                                                                  \n",
            " conv2d_32 (Conv2D)          (None, 32, 32, 256)          590080    ['batch_normalization_30[0][0]\n",
            "                                                                    ']                            \n",
            "                                                                                                  \n",
            " batch_normalization_31 (Ba  (None, 32, 32, 256)          1024      ['conv2d_32[0][0]']           \n",
            " tchNormalization)                                                                                \n",
            "                                                                                                  \n",
            " conv2d_transpose_6 (Conv2D  (None, 64, 64, 128)          131200    ['batch_normalization_31[0][0]\n",
            " Transpose)                                                         ']                            \n",
            "                                                                                                  \n",
            " concatenate_6 (Concatenate  (None, 64, 64, 256)          0         ['conv2d_transpose_6[0][0]',  \n",
            " )                                                                   'batch_normalization_21[0][0]\n",
            "                                                                    ']                            \n",
            "                                                                                                  \n",
            " conv2d_33 (Conv2D)          (None, 64, 64, 128)          295040    ['concatenate_6[0][0]']       \n",
            "                                                                                                  \n",
            " batch_normalization_32 (Ba  (None, 64, 64, 128)          512       ['conv2d_33[0][0]']           \n",
            " tchNormalization)                                                                                \n",
            "                                                                                                  \n",
            " conv2d_34 (Conv2D)          (None, 64, 64, 128)          147584    ['batch_normalization_32[0][0]\n",
            "                                                                    ']                            \n",
            "                                                                                                  \n",
            " batch_normalization_33 (Ba  (None, 64, 64, 128)          512       ['conv2d_34[0][0]']           \n",
            " tchNormalization)                                                                                \n",
            "                                                                                                  \n",
            " conv2d_transpose_7 (Conv2D  (None, 128, 128, 64)         32832     ['batch_normalization_33[0][0]\n",
            " Transpose)                                                         ']                            \n",
            "                                                                                                  \n",
            " concatenate_7 (Concatenate  (None, 128, 128, 128)        0         ['conv2d_transpose_7[0][0]',  \n",
            " )                                                                   'batch_normalization_19[0][0]\n",
            "                                                                    ']                            \n",
            "                                                                                                  \n",
            " conv2d_35 (Conv2D)          (None, 128, 128, 64)         73792     ['concatenate_7[0][0]']       \n",
            "                                                                                                  \n",
            " batch_normalization_34 (Ba  (None, 128, 128, 64)         256       ['conv2d_35[0][0]']           \n",
            " tchNormalization)                                                                                \n",
            "                                                                                                  \n",
            " conv2d_36 (Conv2D)          (None, 128, 128, 64)         36928     ['batch_normalization_34[0][0]\n",
            "                                                                    ']                            \n",
            "                                                                                                  \n",
            " batch_normalization_35 (Ba  (None, 128, 128, 64)         256       ['conv2d_36[0][0]']           \n",
            " tchNormalization)                                                                                \n",
            "                                                                                                  \n",
            " conv2d_37 (Conv2D)          (None, 128, 128, 1)          65        ['batch_normalization_35[0][0]\n",
            "                                                                    ']                            \n",
            "                                                                                                  \n",
            "==================================================================================================\n",
            "Total params: 31055297 (118.47 MB)\n",
            "Trainable params: 31043521 (118.42 MB)\n",
            "Non-trainable params: 11776 (46.00 KB)\n",
            "__________________________________________________________________________________________________\n",
            "None\n"
          ]
        }
      ]
    },
    {
      "cell_type": "markdown",
      "source": [
        "#Train n Save"
      ],
      "metadata": {
        "id": "2gqSPqiOH2tZ"
      }
    },
    {
      "cell_type": "code",
      "source": [
        "history = model.fit(X, y, batch_size=8, epochs=5, verbose=1, validation_split=0.1)\n",
        "\n",
        "# Save the trained model\n",
        "model.save('/content/drive/MyDrive/students_data/unet_model.h5')\n"
      ],
      "metadata": {
        "colab": {
          "base_uri": "https://localhost:8080/"
        },
        "id": "qR3bPVsSH34y",
        "outputId": "e773799b-79d9-4585-a713-199f5eae030f"
      },
      "execution_count": null,
      "outputs": [
        {
          "output_type": "stream",
          "name": "stdout",
          "text": [
            "Epoch 1/5\n",
            " 15/174 [=>............................] - ETA: 42:28 - loss: 0.7077 - accuracy: 0.5799"
          ]
        }
      ]
    },
    {
      "cell_type": "markdown",
      "source": [
        "#Predicting on test image\n"
      ],
      "metadata": {
        "id": "n_pQys2PH-fs"
      }
    },
    {
      "cell_type": "code",
      "source": [
        "import matplotlib.pyplot as plt\n",
        "\n",
        "def load_test_image(img_path, img_size=(128, 128, 3)):\n",
        "    img = imread(img_path)\n",
        "    img = resize(img, img_size, mode='constant', preserve_range=True)\n",
        "    img = img / 255.0  # Normalize the image\n",
        "    return img\n",
        "\n",
        "# Load a test image\n",
        "test_image_path = 'path_to_test_image.jpg'\n",
        "test_image = load_test_image(test_image_path)\n",
        "test_image = np.expand_dims(test_image, axis=0)  # Add batch dimension\n",
        "\n",
        "# Predict the segmentation mask\n",
        "predicted_mask = model.predict(test_image)\n",
        "predicted_mask = (predicted_mask > 0.5).astype(np.uint8)  # Threshold to binary mask\n",
        "\n",
        "# Display the results\n",
        "plt.figure(figsize=(10, 5))\n",
        "\n",
        "plt.subplot(1, 2, 1)\n",
        "plt.title('Test Image')\n",
        "plt.imshow(imread(test_image_path))\n",
        "\n",
        "plt.subplot(1, 2, 2)\n",
        "plt.title('Predicted Mask')\n",
        "plt.imshow(predicted_mask[0, :, :, 0], cmap='gray')\n",
        "\n",
        "plt.show()\n"
      ],
      "metadata": {
        "id": "0S1e7vyrH5fm"
      },
      "execution_count": null,
      "outputs": []
    }
  ]
}